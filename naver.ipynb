{
 "cells": [
  {
   "cell_type": "code",
   "execution_count": 16,
   "metadata": {},
   "outputs": [],
   "source": [
    "import requests, openpyxl\n",
    "from bs4 import BeautifulSoup "
   ]
  },
  {
   "cell_type": "code",
   "execution_count": 17,
   "metadata": {},
   "outputs": [],
   "source": [
    "work_book = openpyxl.Workbook()\n",
    "work_sheet = work_book.active\n",
    "work_sheet.title = '네이버_탑_100'\n",
    "work_sheet.column_dimensions['A'].width = 10\n",
    "work_sheet.column_dimensions['B'].width = 60\n",
    "work_sheet.column_dimensions['C'].width = 15\n",
    "work_sheet.append(['순위','상품명','가격'])"
   ]
  },
  {
   "cell_type": "code",
   "execution_count": 21,
   "metadata": {},
   "outputs": [
    {
     "data": {
      "text/plain": [
       "bs4.element.ResultSet"
      ]
     },
     "execution_count": 21,
     "metadata": {},
     "output_type": "execute_result"
    }
   ],
   "source": [
    "res = requests.get('https://search.shopping.naver.com/best100v2/detail.nhn?catId=50000006',headers={'User-Agent':'Mozilla/5.0'}) \n",
    "soup = BeautifulSoup(res.content,'html.parser' )\n",
    "data = soup.select('li._itemSection')\n",
    "type(data)"
   ]
  },
  {
   "cell_type": "code",
   "execution_count": 19,
   "metadata": {},
   "outputs": [
    {
     "name": "stdout",
     "output_type": "stream",
     "text": [
      "1 락토핏 생유산균 골드 2g x 50포 8,380\n",
      "2 CJ제일제당 비비고 사골곰탕 500g 700\n",
      "3 맛있는 오뚜기 밥 210g 580\n",
      "4 정관장 홍삼정 에브리타임 밸런스 10ml x 3 48,610\n",
      "5 CJ제일제당 햇반 200g 590\n",
      "6 제주특별자치도개발공사 삼다수 2L 10\n",
      "7 종근당건강 프로메가 알티지 오메가3 520mg 11,920\n",
      "8 멜로우네이쳐 제주 무농약 새싹보리 분말 10,900\n",
      "9 대정 스파클 2L 170\n",
      "10 농심 신라면 120g 490\n",
      "11 덴프스 덴마크 유산균 이야기 170mg x 60캡 24,280\n",
      "12 고려은단 메가도스C 3000 3g x 100개입 28,470\n",
      "13 CJ제일제당 햇반 210g 680\n",
      "14 농심 백산수 2L 310\n",
      "15 천연재료 사과 밀떡볶이 5,900\n",
      "16 제주특별자치도개발공사 삼다수 500ml 300\n",
      "17 고려은단 비타민C 1000 1080mg x 720정 49,800\n",
      "18 복순도가 손막걸리 6.5도 935ml 32,400\n",
      "19 골든팜 지웨이 올스타 스팀 닭가슴살 오리지 1,180\n",
      "20 지웨이 슈가 먹는 저분자 피쉬 콜라겐 150g 14,900\n",
      "21 네이쳐티 버블티 블랙 타피오카펄 1kg 8,700\n",
      "22 ANCHOR 무염버터 454g 4,080\n",
      "23 락토핏 생유산균 코어 2g x 60포 13,700\n",
      "24 지웨이 프로바이오틱스 생 유산균 180mg x  16,900\n",
      "25 종근당건강 아이클리어 루테인 지아잔틴 50 7,840\n",
      "26 CJ제일제당 비비고 육개장 500g 2,080\n",
      "27 코카콜라 제로 190ml 11,490\n",
      "28 오리온 꼬북칩 초코츄러스맛 65g 1,300\n",
      "29 동서식품 맥심 모카골드 마일드 12g x 210개 18,130\n",
      "30 GC녹십자 마이크로바이옴 포스트바이오틱스 14,150\n",
      "31 CJ제일제당 햇반 발아현미밥 210g 890\n",
      "32 CJ제일제당 스팸 클래식 200g 1,750\n",
      "33 농심 육개장 사발면 86g 550\n",
      "34 오뚜기 진라면 매운맛 120g 390\n",
      "35 하이트진로 석수 2L 100\n",
      "36 프롬바이오 관절연골 엔 보스웰리아 850mg  15,960\n",
      "37 유지앤 타트체리 어린 저분자 피쉬 콜라겐  28,900\n",
      "38 대정 스파클 500ml 100\n",
      "39 고려은단 비타민C 1000 1080mg x 300정 21,390\n",
      "40 종근당건강 프리바이오틱스 프락토올리고당 9,450\n",
      "41 코카콜라 500ml 600\n",
      "42 CJ제일제당 비비고 왕교자 1.05kg 5,990\n",
      "43 종근당건강 칼슘 앤 마그네슘 비타민D 아연 10,050\n",
      "44 락토핏 장을 위한 생유산균 19 2g x 180포 27,050\n",
      "45 동원 샘물 2L 330\n",
      "46 레이델 폴리코사놀5 200mg x 30정 19,330\n",
      "47 동원에프앤비 동원 살코기 참치 라이트 스탠 1,300\n",
      "48 고려은단 비타민C 1000 1080mg x 600정 39,790\n",
      "49 정식품 베지밀 검은콩두유 고칼슘 190ml 550\n",
      "50 정관장 홍삼정 로얄 240g 138,760\n",
      "51 내츄럴플러스 알티지 오메가3 1200 1301.2m 32,310\n",
      "52 고려은단 퓨어 알티지 오메가3 업그레이드  17,150\n",
      "53 한양식품 오징어 숏다리 1,040\n",
      "54 정관장 홍삼정 에브리타임 로얄 10ml x 30개 64,000\n",
      "55 매일유업 상하목장 유기농 우유 190ml 17,890\n",
      "56 크릴56 크릴오일 1000mg x 30캡슐 20,990\n",
      "57 청년곡창 포스트바이오틱스 프롤린 170g 13,890\n",
      "58 에버콜라겐 타임 비오틴 3g x 30포 27,340\n",
      "59 안국건강 안국 루테인 지아잔틴 미니 90.91 43,600\n",
      "60 마이카인드 유기농 비타민D 1038mg x 60정 51,320\n",
      "61 마이카인드 유기농 맘스 멀티비타민 1827mg 62,930\n",
      "62 몰티저스 초코볼 465g 11,500\n",
      "63 청년곡창 친환경 새싹보리 분말 100g 8,900\n",
      "64 뉴네이처 인생 비타민D3 5000IU 150mg x 18 15,300\n",
      "65 종근당건강 아이클리어 눈사랑 루테인 500m 5,480\n",
      "66 남원 월매식품 김부각 130g 5,000\n",
      "67 서울우유 신선한 우유로 만든 생크림 500ml 3,460\n",
      "68 청년곡창 보스웰리아 환 플러스알파 120g 13,790\n",
      "69 코카콜라 355ml 590\n",
      "70 매일유업 매일우유 매일두유 99.89 190ml 490\n",
      "71 뉴네이처 바이탈 프리미엄 프로바이오틱스  23,300\n",
      "72 뉴네이처 포스트바이오틱스 3g x 30포 14,900\n",
      "73 하리보 골드베렌 980g 8,750\n",
      "74 청년곡창 산양유 단백질 분말 100g 11,900\n",
      "75 이낙근찹쌀떡 32,000\n",
      "76 동아오츠카 나랑드 사이다 180ml 220\n",
      "77 군산맛집 산북동 엄마손칼국수 8,640\n",
      "78 매일유업 블루다이아몬드 아몬드브리즈 오리 530\n",
      "79 청년곡창 몽모랑시 타트체리 콜라겐 젤리 스 13,500\n",
      "80 뉴트리원 루테인 지아잔틴 164 500mg x 30캡 10,260\n",
      "81 CJ제일제당 비비고 소고기 미역국 500g 2,040\n",
      "82 오직 널 위한 뚱카롱 널 담은 마카롱 8구 넌 7,650\n",
      "83 농심 안성탕면 125g 490\n",
      "84 롯데칠성음료 칠성사이다 190ml 290\n",
      "85 서울우유 멸균우유 1L 1,650\n",
      "86 국내산 유기농 새싹보리 분말가루 8,900\n",
      "87 동서식품 맥심 모카골드 마일드 12g x 400개 36,780\n",
      "88 코카콜라 제로 1.5L 2,050\n",
      "89 그릭데이 그릭요거트 8,000\n",
      "90 마이카인드 유기농 남성 멀티비타민 1498mg 55,590\n",
      "91 애터미 헤모힘 20ml x 60포 60,070\n",
      "92 오늘의바디 제주 친환경 무농약 새싹보리 분 10,800\n",
      "93 동서식품 카누 미니 마일드 로스트 아메리카 20,110\n",
      "94 매일유업 블루다이아몬드 아몬드브리즈 뉴트 660\n",
      "95 CJ제일제당 스팸 클래식 340g 2,700\n",
      "96 고려은단 비타민C 1000 이지 600mg x 180정 15,380\n",
      "97 매일유업 매일우유 소화가 잘되는 우유 190 720\n",
      "98 테일러 푸룬주스 1.89L 6,200\n",
      "99 청년곡창 크릴오일 1000mg x 30캡슐 23,490\n",
      "100 마이카인드 유기농 철분제 1684mg x 30정 57,720\n"
     ]
    }
   ],
   "source": [
    "for index, product_info in enumerate(data): \n",
    "    product_name = product_info.select_one('p.cont>a')\n",
    "    product_price = product_info.select_one('div.price span.num')\n",
    "    print(index+1, product_name.get_text().strip('').strip('...'), product_price.get_text().strip(''))\n",
    "    work_sheet.append([index+1, product_name.get_text().strip('').strip('...'), product_price.get_text().strip('')])"
   ]
  },
  {
   "cell_type": "code",
   "execution_count": 20,
   "metadata": {},
   "outputs": [],
   "source": [
    "work_book.save('naver_top_100.xlsx')\n",
    "work_book.close()"
   ]
  },
  {
   "cell_type": "code",
   "execution_count": null,
   "metadata": {},
   "outputs": [],
   "source": []
  }
 ],
 "metadata": {
  "kernelspec": {
   "display_name": "Python 3",
   "language": "python",
   "name": "python3"
  },
  "language_info": {
   "codemirror_mode": {
    "name": "ipython",
    "version": 3
   },
   "file_extension": ".py",
   "mimetype": "text/x-python",
   "name": "python",
   "nbconvert_exporter": "python",
   "pygments_lexer": "ipython3",
   "version": "3.7.6"
  }
 },
 "nbformat": 4,
 "nbformat_minor": 4
}
